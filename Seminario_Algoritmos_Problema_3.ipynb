{
  "cells": [
    {
      "cell_type": "markdown",
      "metadata": {
        "id": "hVbXYX-RfPWh"
      },
      "source": [
        "# Algoritmos de optimización - Seminario<br>\n",
        "Nombre y Apellidos:   <br>\n",
        "Url: https://github.com/.../03MAIR---Algoritmos-de-Optimizacion---2019/tree/master/SEMINARIO<br>\n",
        "Problema:\n",
        "> 1. Sesiones de doblaje <br>\n",
        ">2. Organizar los horarios de partidos de La Liga<br>\n",
        ">3. Combinar cifras y operaciones\n",
        "\n",
        "Descripción del problema:\n",
        "\n",
        "El problema consiste en analizar el siguiente problema y diseñar un algoritmo que lo resuelva.\n",
        "\n",
        "• Disponemos de las 9 cifras del 1 al 9 (excluimos el cero) y de los 4 signos básicos de las operaciones fundamentales: suma(+), resta(-), multiplicación(*) y división(/)\n",
        "\n",
        "• Debemos combinarlos alternativamente sin repetir ninguno de ellos para obtener una cantidad dada. Un ejemplo sería para obtener el 4:\n",
        "4+2-6/3*1 = 4\n",
        "\n",
        "Debe analizarse el problema para encontrar todos los valores enteros posibles planteando las\n",
        "siguientes cuestiones:\n",
        "- ¿Qué valor máximo y mínimo se pueden obtener según las condiciones del problema?\n",
        "- ¿Es posible encontrar todos los valores enteros posibles entre dicho mínimo y máximo ?\n",
        "• Nota: Es posible usar la función de python “eval” para evaluar una expresión\n",
        "\n",
        "....\n",
        "\n",
        "(*) Los valores mínimo y máximo que se pueden obtener según las condiciones del problema son -67 y 77 respectivamente.\n",
        "\n",
        "Si es posible encontrar todos los valores enteros posibles entre -67 (el valor mímino) y 77 (el valor máximo).\n",
        "\n",
        "\n",
        "\n",
        "\n",
        "\n",
        "                                        "
      ]
    },
    {
      "cell_type": "code",
      "execution_count": 1,
      "metadata": {
        "colab": {
          "base_uri": "https://localhost:8080/"
        },
        "id": "AiskKkzZfy4e",
        "outputId": "4a35a67c-ac67-4f24-cfda-e70deb22aaa9"
      },
      "outputs": [
        {
          "name": "stdout",
          "output_type": "stream",
          "text": [
            "Valor mínimo obtenido: -69\n",
            "Valor máximo obtenido: 77\n",
            "Se pueden obtener todos los valores enteros en el rango.\n"
          ]
        }
      ],
      "source": [
        "from itertools import permutations\n",
        "\n",
        "def EvaluarExpresion(expresion):\n",
        "    \"\"\"Esta función evalua las expresiones, para que se puedan realizar las operaciones.\"\"\"\n",
        "    try:\n",
        "        resultado = eval(expresion)\n",
        "        return int(resultado) if resultado == int(resultado) else None\n",
        "    except ZeroDivisionError:\n",
        "        return None\n",
        "\n",
        "def EncontrarEnteros():\n",
        "    \"\"\"Esta función realiza las permutaciones de los dígitos del 1 al 9 combinando las operaciones suma, resta, producto y división.\"\"\"\n",
        "    numeros = \"123456789\"\n",
        "    operadores = \"+-*/\"\n",
        "    valores_obtenidos = set()\n",
        "\n",
        "    # Se generan las permutaciones con los múmeros\n",
        "    for num_perm in permutations(numeros):\n",
        "        # Se generan las permutsciones con las operaciones de suma, resta, producto y división.\n",
        "        for op_perm in permutations(operadores):\n",
        "            # Construir la expresión intercalando números y operadores\n",
        "            expresion = \"\".join(num_perm[i] + op_perm[i] for i in range(4)) + num_perm[4]\n",
        "\n",
        "            # Evaluar la expresión y almacenar solo valores enteros\n",
        "            resultado = EvaluarExpresion(expresion)\n",
        "            if resultado is not None:\n",
        "                valores_obtenidos.add(resultado)\n",
        "\n",
        "    # Determinar el valor mínimo y máximo obtenidos\n",
        "    min_valor = min(valores_obtenidos)\n",
        "    max_valor = max(valores_obtenidos)\n",
        "\n",
        "    # Verificar si hay huecos en los valores obtenidos\n",
        "    todos_los_valores = set(range(min_valor, max_valor + 1))\n",
        "    valores_faltantes = todos_los_valores - valores_obtenidos\n",
        "\n",
        "    return min_valor, max_valor, valores_faltantes\n",
        "\n",
        "# Ejecutar el análisis\n",
        "min_valor, max_valor, valores_faltantes = EncontrarEnteros()\n",
        "\n",
        "# Mostrar resultados\n",
        "print(f\"Valor mínimo obtenido: {min_valor}\")\n",
        "print(f\"Valor máximo obtenido: {max_valor}\")\n",
        "if valores_faltantes:\n",
        "    print(f\"Valores enteros faltantes en el rango: {sorted(valores_faltantes)}\")\n",
        "else:\n",
        "    print(\"Se pueden obtener todos los valores enteros en el rango.\")"
      ]
    },
    {
      "cell_type": "markdown",
      "metadata": {
        "id": "3_-exlrTgLd-"
      },
      "source": [
        "(*)¿Cuantas posibilidades hay sin tener en cuenta las restricciones?<br>\n",
        "\n",
        "\n",
        "\n",
        "\n",
        "¿Cuantas posibilidades hay teniendo en cuenta todas las restricciones?.\n",
        "\n",
        "\n",
        "\n"
      ]
    },
    {
      "cell_type": "markdown",
      "metadata": {
        "id": "WfCUqJyKhPcw"
      },
      "source": [
        "Respuesta"
      ]
    },
    {
      "cell_type": "code",
      "execution_count": 2,
      "metadata": {
        "colab": {
          "base_uri": "https://localhost:8080/"
        },
        "id": "iq6Fe32MgpDX",
        "outputId": "c538b2c5-f17d-47a7-d8a0-6336e8e0cb42"
      },
      "outputs": [
        {
          "name": "stdout",
          "output_type": "stream",
          "text": [
            "¿Cuantas posibilidades hay sin tener en cuenta las restricciones?\n",
            "72576\n",
            "¿Cuantas posibilidades hay teniendo en cuenta todas las restricciones?.\n",
            "146\n"
          ]
        }
      ],
      "source": [
        "print('¿Cuantas posibilidades hay sin tener en cuenta las restricciones?')\n",
        "print(9*8*7*6*4*3*2*1)\n",
        "\n",
        "print('¿Cuantas posibilidades hay teniendo en cuenta todas las restricciones?.')\n",
        "print(77-(-69))"
      ]
    },
    {
      "cell_type": "markdown",
      "metadata": {
        "id": "dzynfVJahHoY"
      },
      "source": [
        "Modelo para el espacio de soluciones<br>\n",
        "(*) ¿Cual es la estructura de datos que mejor se adapta al problema? Argumentalo.(Es posible que hayas elegido una al principio y veas la necesidad de cambiar, arguentalo)\n"
      ]
    },
    {
      "cell_type": "markdown",
      "metadata": {
        "id": "xFIJrOwKi2Ti"
      },
      "source": [
        "Respuesta"
      ]
    },
    {
      "cell_type": "code",
      "execution_count": null,
      "metadata": {},
      "outputs": [],
      "source": []
    },
    {
      "cell_type": "code",
      "execution_count": 3,
      "metadata": {
        "colab": {
          "base_uri": "https://localhost:8080/"
        },
        "id": "38c-7-ejhJmA",
        "outputId": "d1d99c8f-c840-465d-f134-5a16943642a0"
      },
      "outputs": [
        {
          "name": "stdout",
          "output_type": "stream",
          "text": [
            "De acuerdo al problema, nuestra estructura de datos solo contempla los dígitos del 1 al 9 (se excluye el cero) y los operadores (+,-,*,/). Ya que ocupamos el función eval() de python, la mejor estructura es usar los dígitos en un string, al igual que los operadores: \"123456789\" y \"+-*/\n"
          ]
        }
      ],
      "source": [
        "print('De acuerdo al problema, nuestra estructura de datos solo contempla los dígitos del 1 al 9 (se excluye el cero) y los operadores (+,-,*,/). Ya que ocupamos el función eval() de python, la mejor estructura es usar los dígitos en un string, al igual que los operadores: \"123456789\" y \"+-*/')"
      ]
    },
    {
      "cell_type": "markdown",
      "metadata": {
        "id": "7Z9U2W7bi-XS"
      },
      "source": [
        "Según el modelo para el espacio de soluciones<br>\n",
        "(*)¿Cual es la función objetivo?\n",
        "\n",
        "(*)¿Es un problema de maximización o minimización?"
      ]
    },
    {
      "cell_type": "markdown",
      "metadata": {
        "id": "hBalWLM7j1_d"
      },
      "source": [
        "Respuesta"
      ]
    },
    {
      "cell_type": "code",
      "execution_count": null,
      "metadata": {
        "id": "pDA-rg3Gj5Lz"
      },
      "outputs": [],
      "source": [
        "print('¿Cual es la función objetivo?')\n",
        "print('Determinar el conjunto de todos los valores enteros que se pueden obtener a partir de todas las combinaciones posibles de los números del 1 al 9 y los operadores básicos (+, -, , /), usados sin repetir y de manera alternada.')\n",
        "\n",
        "\n",
        "print('¿Es un problema de maximización o minimización?')\n",
        "print('A pesar que el problema pide encontrar un mínimo y un máximo, el problema es de EXPLORACIÓN, ya que se pide encontrar los enteros que se puedan escribir con las condiciones dadas.')"
      ]
    },
    {
      "cell_type": "markdown",
      "metadata": {
        "id": "rlnTYgY1j6I2"
      },
      "source": [
        "Diseña un algoritmo para resolver el problema por fuerza bruta"
      ]
    },
    {
      "cell_type": "markdown",
      "metadata": {
        "id": "70rDgxYXkC8r"
      },
      "source": [
        "Respuesta"
      ]
    },
    {
      "cell_type": "code",
      "execution_count": null,
      "metadata": {
        "id": "CJb5sQ0qkENy"
      },
      "outputs": [],
      "source": [
        "from itertools import permutations\n",
        "\n",
        "def EvaluarExpresion(expresion):\n",
        "    \"\"\"Esta función evalua las expresiones, para que se puedan realizar las operaciones.\"\"\"\n",
        "    try:\n",
        "        resultado = eval(expresion)\n",
        "        return int(resultado) if resultado == int(resultado) else None\n",
        "    except ZeroDivisionError:\n",
        "        return None\n",
        "\n",
        "def EncontrarEnteros():\n",
        "    \"\"\"Esta función realiza las permutaciones de los dígitos del 1 al 9 combinando las operaciones suma, resta, producto y división.\"\"\"\n",
        "    numeros = \"123456789\"\n",
        "    operadores = \"+-*/\"\n",
        "    valores_obtenidos = set()\n",
        "\n",
        "    # Se generan las permutaciones con los múmeros\n",
        "    for num_perm in permutations(numeros):\n",
        "        # Se generan las permutsciones con las operaciones de suma, resta, producto y división.\n",
        "        for op_perm in permutations(operadores):\n",
        "            # Construir la expresión intercalando números y operadores\n",
        "            expresion = \"\".join(num_perm[i] + op_perm[i] for i in range(4)) + num_perm[4]\n",
        "\n",
        "            # Evaluar la expresión y almacenar solo valores enteros\n",
        "            resultado = EvaluarExpresion(expresion)\n",
        "            if resultado is not None:\n",
        "                valores_obtenidos.add(resultado)\n",
        "\n",
        "    # Determinar el valor mínimo y máximo obtenidos\n",
        "    min_valor = min(valores_obtenidos)\n",
        "    max_valor = max(valores_obtenidos)\n",
        "\n",
        "    # Verificar si hay huecos en los valores obtenidos\n",
        "    todos_los_valores = set(range(min_valor, max_valor + 1))\n",
        "    valores_faltantes = todos_los_valores - valores_obtenidos\n",
        "\n",
        "    return min_valor, max_valor, valores_faltantes\n",
        "\n",
        "# Ejecutar el análisis\n",
        "min_valor, max_valor, valores_faltantes = EncontrarEnteros()\n",
        "\n",
        "# Mostrar resultados\n",
        "print(f\"Valor mínimo obtenido: {min_valor}\")\n",
        "print(f\"Valor máximo obtenido: {max_valor}\")\n",
        "if valores_faltantes:\n",
        "    print(f\"Valores enteros faltantes en el rango: {sorted(valores_faltantes)}\")\n",
        "else:\n",
        "    print(\"Se pueden obtener todos los valores enteros en el rango.\")"
      ]
    },
    {
      "cell_type": "markdown",
      "metadata": {
        "id": "tgrnsC2nkFa8"
      },
      "source": [
        "Calcula la complejidad del algoritmo por fuerza bruta"
      ]
    },
    {
      "cell_type": "markdown",
      "metadata": {
        "id": "9eUd3xwckP68"
      },
      "source": [
        "Respuesta"
      ]
    },
    {
      "cell_type": "code",
      "execution_count": 5,
      "metadata": {
        "colab": {
          "base_uri": "https://localhost:8080/"
        },
        "id": "rvZWwL-ckRST",
        "outputId": "93ca135c-9d7e-4d30-93ed-b7a2db02ddf4"
      },
      "outputs": [
        {
          "name": "stdout",
          "output_type": "stream",
          "text": [
            "Como estamos permutando los números del 1 al 9 y a su vez, estos los permutamos con las 4 operaciones, la complejidad resultante es: O(9!×4!)\n"
          ]
        }
      ],
      "source": [
        "print('''Como estamos permutando los números del 1 al 9 y a su vez, estos los permutamos con las 4 operaciones, la complejidad resultante es: O(9!×4!)''')"
      ]
    },
    {
      "cell_type": "markdown",
      "metadata": {
        "id": "txbrmLmskReM"
      },
      "source": [
        "(*)Diseña un algoritmo que mejore la complejidad del algortimo por fuerza bruta. Argumenta porque crees que mejora el algoritmo por fuerza bruta"
      ]
    },
    {
      "cell_type": "markdown",
      "metadata": {
        "id": "hLrVwt5QkZPD"
      },
      "source": [
        "Respuesta"
      ]
    },
    {
      "cell_type": "code",
      "execution_count": null,
      "metadata": {
        "id": "m1eyM21Vkabg"
      },
      "outputs": [],
      "source": [
        "from itertools import permutations\n",
        "\n",
        "def evaluar_expresion(expresion):\n",
        "    \"\"\"Evalúa una expresión matemática y maneja errores de división.\"\"\"\n",
        "    try:\n",
        "        resultado = eval(expresion)\n",
        "        return int(resultado) if resultado == int(resultado) else None  # Solo valores enteros\n",
        "    except ZeroDivisionError:\n",
        "        return None  # Evitar divisiones por cero\n",
        "\n",
        "def backtracking(numeros, operadores, index, expresion, valores_obtenidos):\n",
        "    \"\"\"Genera solo las expresiones válidas.\"\"\"\n",
        "    if index == 4:  # Solo necesitamos 4 operadores\n",
        "        resultado = evaluar_expresion(expresion)\n",
        "        if resultado is not None:\n",
        "            valores_obtenidos.add(resultado)\n",
        "        return\n",
        "\n",
        "    for operador in operadores:\n",
        "        if operador == \"/\" and int(numeros[index + 1]) == 0:\n",
        "            continue  # Evita divisiones por cero\n",
        "\n",
        "        nueva_expresion = f\"{expresion}{operador}{numeros[index + 1]}\"\n",
        "        backtracking(numeros, operadores.replace(operador, \"\"), index + 1, nueva_expresion, valores_obtenidos)\n",
        "\n",
        "def encontrar_valores_enteros():\n",
        "    \"\"\"Esta función usa la funcinón backtracking para encontrar solo valores enteros.\"\"\"\n",
        "    numeros = \"123456789\"\n",
        "    operadores = \"+-*/\"\n",
        "    valores_obtenidos = set()\n",
        "\n",
        "    # Generar todas las permutaciones de los números\n",
        "    for num_perm in permutations(numeros):\n",
        "        # Iniciar backtracking con cada permutación de números\n",
        "        backtracking(num_perm, operadores, 0, num_perm[0], valores_obtenidos)\n",
        "\n",
        "    # Encontrar valores extremos y verificar continuidad\n",
        "    min_valor = min(valores_obtenidos)\n",
        "    max_valor = max(valores_obtenidos)\n",
        "    todos_los_valores = set(range(min_valor, max_valor + 1))\n",
        "    valores_faltantes = todos_los_valores - valores_obtenidos\n",
        "\n",
        "    return min_valor, max_valor, valores_faltantes\n",
        "\n",
        "# Ejecutar el análisis optimizado\n",
        "min_valor, max_valor, valores_faltantes = encontrar_valores_enteros()\n",
        "\n",
        "# Mostrar resultados\n",
        "print(f\"Valor mínimo obtenido: {min_valor}\")\n",
        "print(f\"Valor máximo obtenido: {max_valor}\")\n",
        "if valores_faltantes:\n",
        "    print(f\"Valores enteros faltantes en el rango: {sorted(valores_faltantes)}\")\n",
        "else:\n",
        "    print(\"Se pueden obtener todos los valores enteros en el rango.\")\n"
      ]
    },
    {
      "cell_type": "markdown",
      "metadata": {
        "id": "eGDB4K6uk1iN"
      },
      "source": [
        "(*)Calcula la complejidad del algoritmo"
      ]
    },
    {
      "cell_type": "markdown",
      "metadata": {
        "id": "NhpTh_BPk1ms"
      },
      "source": [
        "Respuesta"
      ]
    },
    {
      "cell_type": "code",
      "execution_count": 6,
      "metadata": {
        "colab": {
          "base_uri": "https://localhost:8080/"
        },
        "id": "nREzhkStlCq8",
        "outputId": "1c58b6bb-0a3d-4d08-987a-27a8e393357a"
      },
      "outputs": [
        {
          "name": "stdout",
          "output_type": "stream",
          "text": [
            "La complejidad de O(9!)×O(4), esto debido a que con la función backtracking() no se probaran todas operaciones en las permutación, solo las que den un valor entero.\n"
          ]
        }
      ],
      "source": [
        "print('La complejidad de O(9!)×O(4), esto debido a que con la función backtracking() no se probaran todas operaciones en las permutación, solo las que den un valor entero.')"
      ]
    },
    {
      "cell_type": "markdown",
      "metadata": {
        "id": "3M6QjTsSkmYe"
      },
      "source": [
        "Según el problema (y tenga sentido), diseña un juego de datos de entrada aleatorios"
      ]
    },
    {
      "cell_type": "markdown",
      "metadata": {
        "id": "Jc3_OlyNkvjZ"
      },
      "source": [
        "Respuesta"
      ]
    },
    {
      "cell_type": "code",
      "execution_count": 7,
      "metadata": {
        "colab": {
          "base_uri": "https://localhost:8080/"
        },
        "id": "sJ-N2etjkyWc",
        "outputId": "f8a79b5e-6e5a-4038-e30e-83768530fb5a"
      },
      "outputs": [
        {
          "name": "stdout",
          "output_type": "stream",
          "text": [
            "Dime un número entero entre -100 y 100.\n",
            "Si puedo escribir el número que elegiste con los dígitos del 1 al 9 y los operadores de suma, resta, producto y división, alternando números con operadores, entonces gano, en caso contrario tu ganas.\n"
          ]
        }
      ],
      "source": [
        "print('Dime un número entero entre -100 y 100.')\n",
        "print('Si puedo escribir el número que elegiste con los dígitos del 1 al 9 y los operadores de suma, resta, producto y división, alternando números con operadores, entonces gano, en caso contrario tu ganas.')"
      ]
    },
    {
      "cell_type": "markdown",
      "metadata": {
        "id": "zy5ZROmjlGo1"
      },
      "source": [
        "Aplica el algoritmo al juego de datos generado"
      ]
    },
    {
      "cell_type": "markdown",
      "metadata": {
        "id": "_Cmj-PVylMsa"
      },
      "source": [
        "Respuesta"
      ]
    },
    {
      "cell_type": "code",
      "execution_count": 10,
      "metadata": {
        "colab": {
          "base_uri": "https://localhost:8080/"
        },
        "id": "Jkx8GeiYlUz1",
        "outputId": "70dd5a6d-d95c-48be-9203-b8873dd757d8"
      },
      "outputs": [
        {
          "name": "stdout",
          "output_type": "stream",
          "text": [
            "Yo gano\n"
          ]
        }
      ],
      "source": [
        "# Dado el numero entero, guardamos dicho valor en la variable n, ponemos por ejemplo el 5:\n",
        "n = 5\n",
        "\n",
        "# checamos si el 5 está en el rango de los números que ya sabemos que si se puden escribir con las condiciones dada, en este caso, si entán en el intervalo [-69, 77]\n",
        "if n>= -69 and n<=77:\n",
        "  print('Yo gano')\n",
        "else:\n",
        "  print('Tu ganas')"
      ]
    },
    {
      "cell_type": "markdown",
      "metadata": {
        "id": "eTFWUJQrtGcv"
      },
      "source": [
        "Enumera las referencias que has utilizado(si ha sido necesario) para llevar a cabo el trabajo"
      ]
    },
    {
      "cell_type": "markdown",
      "metadata": {
        "id": "YKQ_mRBttWsP"
      },
      "source": [
        "https://www.w3schools.com/python/ref_func_eval.asp\n",
        "https://micro.recursospython.com/recursos/la-funcion-eval.html\n",
        "https://www.programiz.com/python-programming/methods/built-in/eval\n",
        "https://docs.python.org/3/library/itertools.htmlRespuesta\n"
      ]
    },
    {
      "cell_type": "markdown",
      "metadata": {
        "id": "kAkDPUyRtYyH"
      },
      "source": [
        "Describe brevemente las lineas de como crees que es posible avanzar en el estudio del problema. Ten en cuenta incluso posibles variaciones del problema y/o variaciones al alza del tamaño"
      ]
    },
    {
      "cell_type": "markdown",
      "metadata": {
        "id": "IE0uZmo-tZu-"
      },
      "source": [
        "Respuesta: Determinar de que otras formas se pueden escribir los números empleando otras operaciones o combinaciones de números específicas. Esto podría ayudar a solucionar problemas como la Conjetura de Goldbach."
      ]
    }
  ],
  "metadata": {
    "colab": {
      "provenance": []
    },
    "kernelspec": {
      "display_name": "Python 3",
      "name": "python3"
    }
  },
  "nbformat": 4,
  "nbformat_minor": 0
}
